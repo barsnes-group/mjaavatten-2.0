{
 "cells": [
  {
   "cell_type": "code",
   "execution_count": 9,
   "metadata": {},
   "outputs": [],
   "source": [
    "from opentrons import protocol_api\n",
    "\n",
    "#metadata\n",
    "metadata = {\n",
    "    'protocolName': 'Easy Liquid Transfer',\n",
    "    'author': 'Henrik S',\n",
    "    'description': 'Simple protocol for liquid transfer using OT2',\n",
    "    'apiLevel': '2.11'\n",
    "    }\n",
    "\n",
    "def run(protocol: protocol_api.ProtocolContext):\n",
    "    \n",
    "    # labware\n",
    "    tiprack10 = protocol.load_labware('opentrons_96_tiprack_10ul', '3')\n",
    "    tiprack300 = protocol.load_labware('opentrons_96_tiprack_300ul', '2')\n",
    "    \n",
    "    test_tube = protocol.load_labware('opentrons_10_tuberack_nest_4x50ml_6x15ml_conical', '5')\n",
    "    #snapcap = protocol.load_labware('opentrons_24_tuberack_nest_1.5ml_snapcap', '4')\n",
    "    snapcap = protocol.load_labware('opentrons_24_tuberack_eppendorf_1.5ml_safelock_snapcap', '4')\n",
    "\n",
    "    # pipettes\n",
    "    p300 = protocol.load_instrument('p300_single_gen2', 'left', tip_racks=[tiprack300])\n",
    "    p20 = protocol.load_instrument('p20_single_gen2', 'right', tip_racks=[tiprack10])\n",
    "\n",
    "    # commands\n",
    "    p300.pick_up_tip()\n",
    "    \n",
    "    p300.flow_rate.aspirate = 20\n",
    "    p300.flow_rate.dispense = 20\n",
    "    p300.well_bottom_clearance.aspirate = 5\n",
    "    p300.well_bottom_clearance.dispense = 5\n",
    "    \n",
    "    for well in snapcap.rows()[:2]:\n",
    "        p300.aspirate(100, well)\n",
    "        p300.air_gap(50)\n",
    "    \n",
    "    p300.dispense(300, test_tube['A3'])\n",
    "    p300.return_tip()\n",
    "    \n",
    "    \n",
    "    p20.pick_up_tip()\n",
    "    p20.well_bottom_clearance.aspirate = 5\n",
    "    p20.well_bottom_clearance.dispense = 5\n",
    "    \n",
    "    p20.aspirate(10, snapcap['B1'])\n",
    "    p20.dispense(10, test_tube['A3'])\n",
    "    p20.return_tip()"
   ]
  },
  {
   "cell_type": "code",
   "execution_count": null,
   "metadata": {},
   "outputs": [],
   "source": []
  }
 ],
 "metadata": {
  "kernelspec": {
   "display_name": "Python 3",
   "language": "python",
   "name": "python3"
  },
  "language_info": {
   "codemirror_mode": {
    "name": "ipython",
    "version": 3
   },
   "file_extension": ".py",
   "mimetype": "text/x-python",
   "name": "python",
   "nbconvert_exporter": "python",
   "pygments_lexer": "ipython3",
   "version": "3.7.4"
  }
 },
 "nbformat": 4,
 "nbformat_minor": 2
}
