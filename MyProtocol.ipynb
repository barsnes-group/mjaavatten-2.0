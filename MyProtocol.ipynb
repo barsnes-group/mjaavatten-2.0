{
 "cells": [
  {
   "cell_type": "code",
   "execution_count": 7,
   "metadata": {},
   "outputs": [],
   "source": [
    "from opentrons import protocol_api\n",
    "\n",
    "# metadata\n",
    "metadata = {\n",
    "    'protocolName': 'My Protocol',\n",
    "    'author': 'Henrik S',\n",
    "    'description': 'Simple protocol to get started using OT2',\n",
    "    'apiLevel': '2.11'\n",
    "    }\n",
    "\n",
    "def run(protocol: protocol_api.ProtocolContext):\n",
    "    \n",
    "    # labware\n",
    "    tiprack10 = protocol.load_labware('opentrons_96_tiprack_10ul', '3')\n",
    "    tiprack300 = protocol.load_labware('opentrons_96_tiprack_300ul', '2')\n",
    "    #test_tube = protocol.load_labware('opentrons_10_tuberack_nest_4x50ml_6x15ml_conical', '5')\n",
    "    snapcap = protocol.load_labware('opentrons_24_tuberack_nest_1.5ml_snapcap', '4')\n",
    "    \n",
    "\n",
    "    # pipettes\n",
    "    left_pipette = protocol.load_instrument('p300_single_gen2', 'left', tip_racks=[tiprack300])\n",
    "    right_pipette = protocol.load_instrument('p20_single_gen2', 'right', tip_racks=[tiprack10, snapcap])\n",
    "\n",
    "    # commands\n",
    "    left_pipette.pick_up_tip()\n",
    "    left_pipette.drop_tip()\n",
    "    right_pipette.pick_up_tip()\n",
    "    right_pipette.drop_tip()\n",
    "    right_pipette.pick_up_tip()\n",
    "    right_pipette.drop_tip()"
   ]
  },
  {
   "cell_type": "code",
   "execution_count": null,
   "metadata": {},
   "outputs": [],
   "source": []
  }
 ],
 "metadata": {
  "kernelspec": {
   "display_name": "Python 3",
   "language": "python",
   "name": "python3"
  },
  "language_info": {
   "codemirror_mode": {
    "name": "ipython",
    "version": 3
   },
   "file_extension": ".py",
   "mimetype": "text/x-python",
   "name": "python",
   "nbconvert_exporter": "python",
   "pygments_lexer": "ipython3",
   "version": "3.7.4"
  }
 },
 "nbformat": 4,
 "nbformat_minor": 2
}
