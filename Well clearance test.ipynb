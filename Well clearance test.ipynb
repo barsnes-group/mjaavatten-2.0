{
 "cells": [
  {
   "cell_type": "code",
   "execution_count": 5,
   "metadata": {},
   "outputs": [],
   "source": [
    "from opentrons import protocol_api\n",
    "\n",
    "#metadata\n",
    "metadata = {\n",
    "    'protocolName': 'Clearance test',\n",
    "    'author': 'Henrik S',\n",
    "    'description': 'Well bottom clearance testing',\n",
    "    'apiLevel': '2.11'\n",
    "    }\n",
    "\n",
    "def run(protocol: protocol_api.ProtocolContext):\n",
    "    \n",
    "    # labware, tipracks\n",
    "    #tiprack10 = protocol.load_labware('opentrons_96_tiprack_10ul', '7')\n",
    "    tiprack300 = protocol.load_labware('opentrons_96_tiprack_300ul', '8')\n",
    "    \n",
    "    # pipettes\n",
    "    p300 = protocol.load_instrument('p300_single_gen2', 'left', tip_racks=[tiprack300])\n",
    "    #p20 = protocol.load_instrument('p20_single_gen2', 'right', tip_racks=[tiprack10])\n",
    "\n",
    "    \n",
    "    # wells\n",
    "    fischer_well = protocol.load_labware('fischer_96_wellplate_330ul', '4')\n",
    "    \n",
    "    \n",
    "    test_tube = protocol.load_labware('opentrons_10_tuberack_nest_4x50ml_6x15ml_conical', '3')\n",
    "    #snapcap = protocol.load_labware('opentrons_24_tuberack_eppendorf_1.5ml_safelock_snapcap', '6')\n",
    "\n",
    "    \n",
    "    #p300.well_bottom_clearance.aspirate = 50\n",
    "    p300.default_speed = 100\n",
    "    \n",
    "    '''\n",
    "    p300.distribute(\n",
    "        20, \n",
    "        test_tube['A1'],   \n",
    "        [fischer_well.wells_by_name()[well_name] for well_name in ['A1', 'A2', 'A3', 'A4', 'A5']], \n",
    "        touch_tip = True,\n",
    "        blow_out = True,   \n",
    "        blowout_location= 'source well',\n",
    "        trash = False      \n",
    "    )\n",
    "    '''\n",
    "\n",
    "    p300.distribute(\n",
    "        20, \n",
    "        test_tube['B3'],   \n",
    "        [fischer_well.wells_by_name()[well_name] for well_name in ['A1', 'A2', 'A3', 'A4', 'A5']], \n",
    "        touch_tip = True,\n",
    "        blow_out = True,   \n",
    "        blowout_location= 'source well',\n",
    "        trash = False      \n",
    "    )\n"
   ]
  },
  {
   "cell_type": "code",
   "execution_count": null,
   "metadata": {},
   "outputs": [],
   "source": []
  },
  {
   "cell_type": "code",
   "execution_count": null,
   "metadata": {},
   "outputs": [],
   "source": []
  },
  {
   "cell_type": "code",
   "execution_count": null,
   "metadata": {},
   "outputs": [],
   "source": []
  },
  {
   "cell_type": "code",
   "execution_count": null,
   "metadata": {},
   "outputs": [],
   "source": []
  }
 ],
 "metadata": {
  "kernelspec": {
   "display_name": "Python 3",
   "language": "python",
   "name": "python3"
  },
  "language_info": {
   "codemirror_mode": {
    "name": "ipython",
    "version": 3
   },
   "file_extension": ".py",
   "mimetype": "text/x-python",
   "name": "python",
   "nbconvert_exporter": "python",
   "pygments_lexer": "ipython3",
   "version": "3.7.4"
  }
 },
 "nbformat": 4,
 "nbformat_minor": 2
}
