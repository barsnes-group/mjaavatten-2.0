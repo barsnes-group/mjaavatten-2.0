{
 "cells": [
  {
   "cell_type": "code",
   "execution_count": 2,
   "metadata": {},
   "outputs": [],
   "source": [
    "from opentrons import protocol_api"
   ]
  },
  {
   "cell_type": "code",
   "execution_count": 3,
   "metadata": {},
   "outputs": [],
   "source": [
    "#metadata\n",
    "metadata = {\n",
    "    'protocolName': 'Multi Channel Pipette test',\n",
    "    'author': 'Henrik S',\n",
    "    'description': 'MCP Test',\n",
    "    'apiLevel': '2.11'\n",
    "    }\n",
    "\n",
    "def run(protocol: protocol_api.ProtocolContext):\n",
    "    \n",
    "    # labware, tipracks\n",
    "    tiprack10 = protocol.load_labware('opentrons_96_tiprack_10ul', 11)\n",
    "    tiprack300 = protocol.load_labware('opentrons_96_tiprack_300ul', 8)\n",
    "    \n",
    "    # modules\n",
    "    mag_mod = protocol.load_module('magnetic module', 10)\n",
    "    mag_plate = mag_mod.load_labware('eppendorf_96_deepwellplate_500ul')\n",
    "    \n",
    "    temp_mod = protocol.load_module('temperature module', 4)\n",
    "    temp_plate = temp_mod.load_labware('eppendorf_96_deepwellplate_500ul')\n",
    "    \n",
    "    # pipettes\n",
    "    p300 = protocol.load_instrument('p300_multi_gen2', 'left', tip_racks=[tiprack300])\n",
    "    p20 = protocol.load_instrument('p20_single_gen2', 'right', tip_racks=[tiprack10])\n",
    "\n",
    "    # wells\n",
    "    reservoir = protocol.load_labware('agilent_1_reservoir_290ml', 2)\n",
    "    \n",
    "    \n",
    "    tuberack = protocol.load_labware('opentrons_10_tuberack_nest_4x50ml_6x15ml_conical', 3)\n",
    "    snapcap = protocol.load_labware('opentrons_24_tuberack_eppendorf_1.5ml_safelock_snapcap', 6)\n",
    "    \n",
    "    \n",
    "    p300.transfer(\n",
    "        100, \n",
    "        reservoir.wells(), #insert true source here\n",
    "        temp_plate.wells(),\n",
    "        mix_after = (2, 50),\n",
    "        #touch_tip = True,\n",
    "        blow_out = True,\n",
    "        blowout_location = 'source well',\n",
    "        trash = False\n",
    "        )\n",
    "  "
   ]
  },
  {
   "cell_type": "code",
   "execution_count": null,
   "metadata": {},
   "outputs": [],
   "source": []
  }
 ],
 "metadata": {
  "kernelspec": {
   "display_name": "Python 3",
   "language": "python",
   "name": "python3"
  },
  "language_info": {
   "codemirror_mode": {
    "name": "ipython",
    "version": 3
   },
   "file_extension": ".py",
   "mimetype": "text/x-python",
   "name": "python",
   "nbconvert_exporter": "python",
   "pygments_lexer": "ipython3",
   "version": "3.7.4"
  }
 },
 "nbformat": 4,
 "nbformat_minor": 2
}
